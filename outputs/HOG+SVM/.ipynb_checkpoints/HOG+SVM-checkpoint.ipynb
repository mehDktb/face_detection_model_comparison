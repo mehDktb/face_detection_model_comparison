{
 "cells": [
  {
   "cell_type": "markdown",
   "id": "33f6957f",
   "metadata": {},
   "source": [
    "<h1>\n",
    "    on video"
   ]
  },
  {
   "cell_type": "code",
   "execution_count": 1,
   "id": "ba5155e3",
   "metadata": {},
   "outputs": [
    {
     "name": "stdout",
     "output_type": "stream",
     "text": [
      "Processing video... Press 'q' to exit.\n"
     ]
    }
   ],
   "source": [
    "import cv2\n",
    "import dlib\n",
    "import time\n",
    "\n",
    "detector = dlib.get_frontal_face_detector()\n",
    "\n",
    "video_capture = cv2.VideoCapture('/home/mehdi_ktb/Documents/Face_Detection/emkan_sanji/face_detection/output.mp4')\n",
    "\n",
    "fps = video_capture.get(cv2.CAP_PROP_FPS)\n",
    "\n",
    "frame_width = int(video_capture.get(cv2.CAP_PROP_FRAME_WIDTH))\n",
    "frame_height = int(video_capture.get(cv2.CAP_PROP_FRAME_HEIGHT))\n",
    "\n",
    "out = cv2.VideoWriter('output_video.avi', cv2.VideoWriter_fourcc(*'XVID'), fps, (frame_width, frame_height))\n",
    "\n",
    "print(\"Processing video... Press 'q' to exit.\")\n",
    "\n",
    "while True:\n",
    "    ret, frame = video_capture.read()\n",
    "    if not ret:\n",
    "        break\n",
    "    \n",
    "    start_time = time.time()\n",
    "    \n",
    "    gray = cv2.cvtColor(frame, cv2.COLOR_BGR2GRAY)\n",
    "    \n",
    "    faces = detector(gray)\n",
    "    \n",
    "    for face in faces:\n",
    "        x, y, w, h = face.left(), face.top(), face.width(), face.height()\n",
    "        cv2.rectangle(frame, (x, y), (x + w, y + h), (0, 255, 0), 2)\n",
    "    \n",
    "    end_time = time.time()\n",
    "    fps_display = int(1 / (end_time - start_time))\n",
    "    \n",
    "    cv2.putText(frame, f'FPS: {fps_display}', (10, 30), cv2.FONT_HERSHEY_SIMPLEX, 1, (0, 255, 0), 2)\n",
    "    \n",
    "    cv2.imshow(\"Video - HOG + SVM Face Detection\", frame)\n",
    "    \n",
    "    out.write(frame)\n",
    "    \n",
    "    if cv2.waitKey(1) & 0xFF == ord('q'):\n",
    "        break\n",
    "\n",
    "video_capture.release()\n",
    "out.release()\n",
    "cv2.destroyAllWindows()\n"
   ]
  },
  {
   "cell_type": "markdown",
   "id": "58defd1c",
   "metadata": {},
   "source": [
    "<h1>\n",
    "    on webcam"
   ]
  },
  {
   "cell_type": "code",
   "execution_count": null,
   "id": "5387cdea",
   "metadata": {},
   "outputs": [
    {
     "name": "stdout",
     "output_type": "stream",
     "text": [
      "Processing video... Press 'q' to exit.\n"
     ]
    }
   ],
   "source": [
    "import cv2\n",
    "import dlib\n",
    "import time\n",
    "\n",
    "detector = dlib.get_frontal_face_detector()\n",
    "\n",
    "video_capture = cv2.VideoCapture(0)\n",
    "\n",
    "fps = video_capture.get(cv2.CAP_PROP_FPS)\n",
    "\n",
    "frame_width = int(video_capture.get(cv2.CAP_PROP_FRAME_WIDTH))\n",
    "frame_height = int(video_capture.get(cv2.CAP_PROP_FRAME_HEIGHT))\n",
    "\n",
    "out = cv2.VideoWriter('einak.avi', cv2.VideoWriter_fourcc(*'XVID'), fps, (frame_width, frame_height))\n",
    "\n",
    "print(\"Processing video... Press 'q' to exit.\")\n",
    "\n",
    "while True:\n",
    "    ret, frame = video_capture.read()\n",
    "    if not ret:\n",
    "        break\n",
    "    \n",
    "    start_time = time.time()\n",
    "    \n",
    "    gray = cv2.cvtColor(frame, cv2.COLOR_BGR2GRAY)\n",
    "    \n",
    "    faces = detector(gray)\n",
    "    \n",
    "    for face in faces:\n",
    "        x, y, w, h = face.left(), face.top(), face.width(), face.height()\n",
    "        cv2.rectangle(frame, (x, y), (x + w, y + h), (0, 255, 0), 2)\n",
    "    \n",
    "    end_time = time.time()\n",
    "    fps_display = int(1 / (end_time - start_time))\n",
    "    \n",
    "    cv2.putText(frame, f'FPS: {fps_display}', (10, 30), cv2.FONT_HERSHEY_SIMPLEX, 1, (0, 255, 0), 2)\n",
    "    \n",
    "    cv2.imshow(\"Video - HOG + SVM Face Detection\", frame)\n",
    "    \n",
    "    out.write(frame)\n",
    "    \n",
    "    if cv2.waitKey(1) & 0xFF == ord('q'):\n",
    "        break\n",
    "\n",
    "video_capture.release()\n",
    "out.release()\n",
    "cv2.destroyAllWindows()\n"
   ]
  },
  {
   "cell_type": "code",
   "execution_count": null,
   "id": "5c929c2a",
   "metadata": {},
   "outputs": [],
   "source": []
  },
  {
   "cell_type": "code",
   "execution_count": null,
   "id": "afb08ecb",
   "metadata": {},
   "outputs": [],
   "source": []
  }
 ],
 "metadata": {
  "kernelspec": {
   "display_name": "neural_network",
   "language": "python",
   "name": "neural_network"
  },
  "language_info": {
   "codemirror_mode": {
    "name": "ipython",
    "version": 3
   },
   "file_extension": ".py",
   "mimetype": "text/x-python",
   "name": "python",
   "nbconvert_exporter": "python",
   "pygments_lexer": "ipython3",
   "version": "3.12.3"
  }
 },
 "nbformat": 4,
 "nbformat_minor": 5
}
